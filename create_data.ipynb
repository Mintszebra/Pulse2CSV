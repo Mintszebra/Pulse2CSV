{
 "cells": [
  {
   "cell_type": "markdown",
   "metadata": {},
   "source": [
    "# 中醫脈象分類：多數據庫相似度比對系統\n",
    "\n",
    "**版本 7.0 - 支援「沉、中、浮」三種壓力維度**\n",
    "\n",
    "**流程概覽:**\n",
    "1.  **一次性建立多個數據庫**: 程式會自動掃描 `pulse_data` 下的 `沉`, `中`, `浮` 三個子資料夾，並為每一個都建立獨立且永久儲存的「指紋數據庫」。\n",
    "2.  **執行預測**: 使用者需要提供兩項資訊：\n",
    "    a. 一個新的未知 CSV 檔案。\n",
    "    b. 該次測量的壓力級別（`沉`, `中`, 或 `浮`）。\n",
    "3.  **精準比對**: 系統會根據使用者指定的壓力級別，載入對應的數據庫進行比對，並回傳最相似的結果。"
   ]
  },
  {
   "cell_type": "markdown",
   "metadata": {},
   "source": [
    "### 步驟 1: 匯入函式庫與定義特徵提取函式"
   ]
  },
  {
   "cell_type": "code",
   "execution_count": 1,
   "metadata": {},
   "outputs": [],
   "source": [
    "import os\n",
    "import pandas as pd\n",
    "import numpy as np\n",
    "import joblib\n",
    "import json\n",
    "from scipy.signal import find_peaks\n",
    "from scipy.spatial.distance import euclidean\n",
    "from sklearn.preprocessing import StandardScaler\n",
    "from tqdm import tqdm\n",
    "\n",
    "def extract_features(waveform_data):\n",
    "    \"\"\"從一個 (n_points, 2) 的波形數據中提取特徵向量。\"\"\"\n",
    "    y_values = waveform_data[:, 1]\n",
    "    mean_y = np.mean(y_values)\n",
    "    std_y = np.std(y_values)\n",
    "    max_y = np.max(y_values)\n",
    "    min_y = np.min(y_values)\n",
    "    diff_y = np.diff(y_values, n=1)\n",
    "    mean_diff = np.mean(diff_y) if diff_y.size > 0 else 0\n",
    "    std_diff = np.std(diff_y) if diff_y.size > 0 else 0\n",
    "    peaks, _ = find_peaks(y_values, height=mean_y)\n",
    "    num_peaks = len(peaks)\n",
    "    feature_vector = np.array([\n",
    "        mean_y, std_y, max_y, min_y,\n",
    "        mean_diff, std_diff, num_peaks\n",
    "    ])\n",
    "    return feature_vector"
   ]
  },
  {
   "cell_type": "markdown",
   "metadata": {},
   "source": [
    "### 步驟 2: (首次執行) 建立並儲存所有壓力級別的數據庫\n",
    "\n",
    "**注意**：這個儲存格會一次性地為 `沉`, `中`, `浮` 三個子資料夾都建立數據庫。您只需要在第一次執行，或更新了 `pulse_data` 中的檔案後才需要重新執行。"
   ]
  },
  {
   "cell_type": "code",
   "execution_count": 2,
   "metadata": {},
   "outputs": [
    {
     "name": "stdout",
     "output_type": "stream",
     "text": [
      "\n",
      "--- 正在處理壓力級別: '沉' --- \n"
     ]
    },
    {
     "name": "stderr",
     "output_type": "stream",
     "text": [
      "建立 '沉' 級數據庫: 100%|██████████| 4/4 [00:00<00:00, 228.34it/s]\n"
     ]
    },
    {
     "name": "stdout",
     "output_type": "stream",
     "text": [
      "'沉' 級指紋數據庫已成功建立並儲存！\n",
      "\n",
      "--- 正在處理壓力級別: '中' --- \n"
     ]
    },
    {
     "name": "stderr",
     "output_type": "stream",
     "text": [
      "建立 '中' 級數據庫: 100%|██████████| 18/18 [00:00<00:00, 306.06it/s]\n"
     ]
    },
    {
     "name": "stdout",
     "output_type": "stream",
     "text": [
      "'中' 級指紋數據庫已成功建立並儲存！\n",
      "\n",
      "--- 正在處理壓力級別: '浮' --- \n"
     ]
    },
    {
     "name": "stderr",
     "output_type": "stream",
     "text": [
      "建立 '浮' 級數據庫: 100%|██████████| 7/7 [00:00<00:00, 292.50it/s]"
     ]
    },
    {
     "name": "stdout",
     "output_type": "stream",
     "text": [
      "'浮' 級指紋數據庫已成功建立並儲存！\n"
     ]
    },
    {
     "name": "stderr",
     "output_type": "stream",
     "text": [
      "\n"
     ]
    }
   ],
   "source": [
    "def create_all_databases(base_folder):\n",
    "    \"\"\"掃描子資料夾 (沉, 中, 浮) 並為每一個都建立數據庫。\"\"\"\n",
    "    pressure_levels = ['沉', '中', '浮']\n",
    "    \n",
    "    for level in pressure_levels:\n",
    "        folder_path = os.path.join(base_folder, level)\n",
    "        print(f\"\\n--- 正在處理壓力級別: '{level}' --- \")\n",
    "        \n",
    "        if not os.path.exists(folder_path):\n",
    "            print(f\"警告：找不到資料夾 '{folder_path}'，已跳過。\")\n",
    "            continue\n",
    "            \n",
    "        files = [f for f in os.listdir(folder_path) if f.endswith('.csv')]\n",
    "        if not files:\n",
    "            print(f\"警告：在 '{folder_path}' 中找不到任何 CSV 檔案，已跳過。\")\n",
    "            continue\n",
    "        \n",
    "        reference_features = []\n",
    "        reference_labels = []\n",
    "        \n",
    "        for file_name in tqdm(files, desc=f\"建立 '{level}' 級數據庫\"):\n",
    "            label = os.path.splitext(file_name)[0]\n",
    "            file_path = os.path.join(folder_path, file_name)\n",
    "            try:\n",
    "                df = pd.read_csv(file_path, header=None, usecols=[0, 1]).apply(pd.to_numeric, errors='coerce').dropna()\n",
    "                if df.empty: continue\n",
    "                features = extract_features(df.to_numpy())\n",
    "                reference_features.append(features)\n",
    "                reference_labels.append(label)\n",
    "            except Exception: continue\n",
    "        \n",
    "        if not reference_features:\n",
    "            print(f\"警告: 在 '{level}' 資料夾中沒有成功處理任何檔案。\")\n",
    "            continue\n",
    "            \n",
    "        reference_features = np.array(reference_features)\n",
    "        scaler = StandardScaler()\n",
    "        scaled_reference_features = scaler.fit_transform(reference_features)\n",
    "        \n",
    "        # --- 儲存特定級別的物件到檔案 ---\n",
    "        np.save(f'ref_features_{level}.npy', scaled_reference_features)\n",
    "        joblib.dump(scaler, f'ref_scaler_{level}.pkl')\n",
    "        with open(f'ref_labels_{level}.json', 'w', encoding='utf-8') as f:\n",
    "            json.dump(reference_labels, f, ensure_ascii=False)\n",
    "        \n",
    "        print(f\"'{level}' 級指紋數據庫已成功建立並儲存！\")\n",
    "\n",
    "# --- 執行建立所有數據庫的流程 ---\n",
    "DATA_FOLDER = 'pulse_data'\n",
    "create_all_databases(DATA_FOLDER)"
   ]
  },
  {
   "cell_type": "markdown",
   "metadata": {},
   "source": [
    "### 步驟 3: (可重複執行) 載入指定數據庫並進行預測\n",
    "\n",
    "未來您只需要修改 `pressure_level_to_predict` 和 `new_csv_path` 兩個變數，然後執行這個區塊即可。"
   ]
  },
  {
   "cell_type": "code",
   "execution_count": 3,
   "metadata": {},
   "outputs": [
    {
     "name": "stdout",
     "output_type": "stream",
     "text": [
      "\n",
      "準備使用 '浮' 級數據庫進行預測...\n",
      "'浮' 級指紋數據庫載入成功！\n",
      "\n",
      "對檔案 '平脈.csv' 的比對結果:\n",
      "  - 檔案名稱: 平脈.csv\n",
      "  - 最相似的標準樣本: 平脈\n",
      "  - 相似度(距離): 0.0000\n"
     ]
    }
   ],
   "source": [
    "def load_specific_database(pressure_level):\n",
    "    \"\"\"根據指定的壓力級別，從檔案載入對應的指紋數據庫。\"\"\"\n",
    "    try:\n",
    "        features = np.load(f'ref_features_{pressure_level}.npy')\n",
    "        scaler = joblib.load(f'ref_scaler_{pressure_level}.pkl')\n",
    "        with open(f'ref_labels_{pressure_level}.json', 'r', encoding='utf-8') as f:\n",
    "            labels = json.load(f)\n",
    "        print(f\"'{pressure_level}' 級指紋數據庫載入成功！\")\n",
    "        return features, labels, scaler\n",
    "    except FileNotFoundError:\n",
    "        print(f\"錯誤：找不到 '{pressure_level}' 級的數據庫檔案。請先執行『步驟 2』來建立數據庫。\")\n",
    "        return None, None, None\n",
    "\n",
    "def find_most_similar(new_csv_path, reference_features, reference_labels, scaler):\n",
    "    \"\"\"比對新的CSV檔案，找出最相似的標準樣本。\"\"\"\n",
    "    try:\n",
    "        df_new = pd.read_csv(new_csv_path, header=None, usecols=[0, 1]).apply(pd.to_numeric, errors='coerce').dropna()\n",
    "        if df_new.empty: return \"錯誤：新的CSV檔案為空或無法解析。\"\n",
    "        new_features = extract_features(df_new.to_numpy())\n",
    "        scaled_new_features = scaler.transform(new_features.reshape(1, -1))\n",
    "        distances = [euclidean(scaled_new_features[0], ref_feature) for ref_feature in reference_features]\n",
    "        closest_index = np.argmin(distances)\n",
    "        result = {\n",
    "            '檔案名稱': os.path.basename(new_csv_path),\n",
    "            '最相似的標準樣本': reference_labels[closest_index],\n",
    "            '相似度(距離)': f\"{distances[closest_index]:.4f}\" # 距離越小代表越相似\n",
    "        }\n",
    "        return result\n",
    "    except Exception as e:\n",
    "        return f\"預測過程中發生錯誤: {e}\"\n",
    "\n",
    "# --- 【新的執行預測流程】 ---\n",
    "\n",
    "# 1. 使用者互動式輸入壓力級別\n",
    "valid_levels = ['沉', '中', '浮']\n",
    "pressure_level_to_predict = '浮'\n",
    "\n",
    "# 2. 指定您要預測的新檔案路徑 (這裡仍然需要手動修改)\n",
    "new_csv_path = 'pulse_data/浮/平脈.csv'\n",
    "# ----------------------------------------------------\n",
    "\n",
    "print(f\"\\n準備使用 '{pressure_level_to_predict}' 級數據庫進行預測...\")\n",
    "ref_features, ref_labels, ref_scaler = load_specific_database(pressure_level_to_predict)\n",
    "\n",
    "if ref_features is not None:\n",
    "    if os.path.exists(new_csv_path):\n",
    "        prediction = find_most_similar(new_csv_path, ref_features, ref_labels, ref_scaler)\n",
    "        print(f\"\\n對檔案 '{os.path.basename(new_csv_path)}' 的比對結果:\")\n",
    "        if isinstance(prediction, dict):\n",
    "            for key, value in prediction.items():\n",
    "                print(f\"  - {key}: {value}\")\n",
    "        else:\n",
    "            print(prediction)\n",
    "    else:\n",
    "        print(f\"---! 檔案未找到 !---\")\n",
    "        print(f\"請將 'new_csv_path' 的值從 '{new_csv_path}' 改為您電腦中真實的CSV檔案路徑!\")"
   ]
  }
 ],
 "metadata": {
  "kernelspec": {
   "display_name": "讀取脈搏",
   "language": "python",
   "name": "python3"
  },
  "language_info": {
   "codemirror_mode": {
    "name": "ipython",
    "version": 3
   },
   "file_extension": ".py",
   "mimetype": "text/x-python",
   "name": "python",
   "nbconvert_exporter": "python",
   "pygments_lexer": "ipython3",
   "version": "3.13.6"
  }
 },
 "nbformat": 4,
 "nbformat_minor": 2
}
